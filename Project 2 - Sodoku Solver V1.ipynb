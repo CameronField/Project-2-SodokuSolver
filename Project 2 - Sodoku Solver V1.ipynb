{
 "cells": [
  {
   "cell_type": "markdown",
   "metadata": {},
   "source": [
    "# First Attempt (3 - 9 July 2022)"
   ]
  },
  {
   "cell_type": "markdown",
   "metadata": {},
   "source": [
    "I spent a few days playing sodoku and trying to find patterns in the way I approached solving the problem. The first thought I had was evaluating an empty cell by looking at its row and column and box one by one and seeing if I could fill in a correct answer that way. My thought was that in order to ensure that I make the computer only input correct answers only, I would have the program go to an empty cell, look at the row or column or box it was in, then see if there were 8 out of 9 that were already filled in. That way, all the program would have to do would be to fill in the remaining number. That logic would loop over and over until all the cells were filled in and the puzzle would be solved.\n",
    "\n",
    "I tried to replicate that logic by hand on an empty sodoku, but realized that there are very few sodoku puzzles that had initial conditions that favored that approach. You'd have to be lucky to get a puzzle whose initial condition had a row/column/box that had 8 out of 9 already filled in, and those were the easiest of the easy sodokus. If you were not lucky, the program would just continue to infinitely loop trying to find a single solution, but never solving the puzzle. "
   ]
  },
  {
   "cell_type": "markdown",
   "metadata": {},
   "source": [
    "# First Attempt: Part II (10 - 16 July 2022)"
   ]
  },
  {
   "cell_type": "markdown",
   "metadata": {},
   "source": [
    "After playing some more sodokus by hand and messing around with solving techniques on a whiteboard, I found a better approach. What if for every empty sodoku cell, the program evaluated what number that cell COULD be, based on the rest of the cells in its same row/column/box? That row, column, and box would have their own list of possible values. That way, you could compare those lists of possible values to one another. If there exists a SINGLE UNIQUE number that all three share, that has to be the solution for that cell. Effectively, the program compares the intersection of sets to find a solution. The program would loop through every empty cell and repeat that logic until all cells are filled in. \n",
    "\n",
    "The code below reflects this approach."
   ]
  },
  {
   "cell_type": "markdown",
   "metadata": {},
   "source": [
    "### Import Dependencies"
   ]
  },
  {
   "cell_type": "code",
   "execution_count": 1,
   "metadata": {},
   "outputs": [],
   "source": [
    "import numpy as np"
   ]
  },
  {
   "cell_type": "code",
   "execution_count": 2,
   "metadata": {},
   "outputs": [],
   "source": [
    "#This list will be used to help identify if a row/column/box already has these numbers\n",
    "num = [1,2,3,4,5,6,7,8,9]"
   ]
  },
  {
   "cell_type": "markdown",
   "metadata": {},
   "source": [
    "### Row & Column Lists\n",
    "\n",
    "In order to start finding a solution for an empty cell, we need to evaluate its neighbors in its row, its column, and its box. These functions below are necessary to turn a row, column, or box into a single SET of numbers. \n",
    "\n",
    "*A set is necessary instead of a list because zero shows up multiple times in a row/column/box and all we want is for that zero to show up once.* "
   ]
  },
  {
   "cell_type": "code",
   "execution_count": 25,
   "metadata": {},
   "outputs": [],
   "source": [
    "def row_list(b,r): return set([i for i in b[r,:]])\n",
    "#Inputs: Takes a 9x9 2d Numpy array, a specified row\n",
    "#Returns: Set of numbers in that row (from 0 to 9)"
   ]
  },
  {
   "cell_type": "code",
   "execution_count": 26,
   "metadata": {},
   "outputs": [],
   "source": [
    "def column_list(b,c): return set([i for i in b[:,c]])\n",
    "#Inputs: Takes a 9x9 2d Numpy array, a specified column\n",
    "#Returns: Set of numbers in that column (from 0 to 9)"
   ]
  },
  {
   "cell_type": "markdown",
   "metadata": {},
   "source": [
    "### Box Logic\n",
    "\n",
    "The logic for boxes is more involved because boxes span over specific rows and columns. The best approach that I came to was by associating every cell with a specific box using numpy's dstack function, which effectively works like a zip function. Then using a function that evaluates the whole puzzle and only returns a value to a list if that value is within that box."
   ]
  },
  {
   "cell_type": "code",
   "execution_count": 3,
   "metadata": {},
   "outputs": [],
   "source": [
    "boxes = np.array([[1,1,1,2,2,2,3,3,3],\n",
    "                  [1,1,1,2,2,2,3,3,3],\n",
    "                  [1,1,1,2,2,2,3,3,3],\n",
    "                  [4,4,4,5,5,5,6,6,6],\n",
    "                  [4,4,4,5,5,5,6,6,6],\n",
    "                  [4,4,4,5,5,5,6,6,6],\n",
    "                  [7,7,7,8,8,8,9,9,9],\n",
    "                  [7,7,7,8,8,8,9,9,9],\n",
    "                  [7,7,7,8,8,8,9,9,9]])\n",
    "\n",
    "def box_number(b,r,c): \n",
    "    \"\"\"Inputs: 9x9 2d np array, row index of target cell, column index of cell\n",
    "       Returns: the box number of that cell\"\"\"\n",
    "    stacked = np.dstack((b,boxes))\n",
    "    return stacked[r,c,1]\n",
    "\n",
    "def box_list(b,n):\n",
    "    \"\"\"Inputs: 9x9 2d np array, number of the box you want to evaluate\n",
    "       Returns: A set of numbers that are in that target box\"\"\"\n",
    "    stacked = np.dstack((b,boxes))\n",
    "    return set([j[0] for i in stacked for j in i if j[1] == n])"
   ]
  },
  {
   "cell_type": "markdown",
   "metadata": {},
   "source": [
    "### Determining possible values for an empty cell\n",
    "\n",
    "Now that the list functions are set up, we can set up functions that return possible values for an empty cell, given the values in its respective row/column/box. Each function below evaluates what's in the row/column/box, then removes that value from the list of numbers from 0 to 9. The remaining numbers are what that empty cell *could* be."
   ]
  },
  {
   "cell_type": "code",
   "execution_count": 27,
   "metadata": {},
   "outputs": [],
   "source": [
    "def p_row(b,r):\n",
    "    \"\"\"Inputs: 9x9 2d np array, row index of target cell\n",
    "       Returns: set of numbers that the empty cell could be from 1 to 9\"\"\"\n",
    "    row = set(num)\n",
    "    array_row = row_list(b,r)\n",
    "    for i in array_row:\n",
    "        if i in row:\n",
    "            row.remove(i)\n",
    "    return row"
   ]
  },
  {
   "cell_type": "code",
   "execution_count": 28,
   "metadata": {},
   "outputs": [],
   "source": [
    "def p_column(b,c):\n",
    "    \"\"\"Inputs: 9x9 2d np array, column index of target cell\n",
    "       Returns: set of numbers that the empty cell could be from 1 to 9\"\"\"\n",
    "    column = set(num)\n",
    "    array_column = column_list(b,c)\n",
    "    for i in array_column:\n",
    "        if i in column:\n",
    "            column.remove(i)\n",
    "    return column"
   ]
  },
  {
   "cell_type": "code",
   "execution_count": 29,
   "metadata": {},
   "outputs": [],
   "source": [
    "def p_box(b,x):\n",
    "    \"\"\"Inputs: 9x9 2d np array, box number of target cell\n",
    "       Returns: set of numbers that the empty cell could be from 1 to 9\"\"\"\n",
    "    box = set(num)\n",
    "    array_box = box_list(b,x)\n",
    "    for i in array_box:\n",
    "        if i in box:\n",
    "            box.remove(i)\n",
    "    return box"
   ]
  },
  {
   "cell_type": "markdown",
   "metadata": {},
   "source": [
    "### Intersection of Sets\n",
    "\n",
    "This next function takes the sets of the possible values of the target cell's row, column, and box, and uses its intersection as the cell's total possible solution. This works because while there may be numbers the empty cell could be based on its respective row, that number may already be in its respective column or box, therefore that number is not a valid answer. \n",
    "\n",
    "A perfect solution exists if and only if the output of the intersection is a single element."
   ]
  },
  {
   "cell_type": "code",
   "execution_count": 30,
   "metadata": {},
   "outputs": [],
   "source": [
    "def solution(b,r,c):\n",
    "    \"\"\"Inputs: 9x9 2d np array, row index of empty cell, column index of empty cell\n",
    "       Returns: set of the correct solution for that empty cell, otherwise False\"\"\"\n",
    "    x = p_row(b,r)\n",
    "    y = p_column(b,c)\n",
    "    z = p_box(b,box_number(b,r,c))\n",
    "    could_be = x & y & z\n",
    "    if len(x & y & z) <= 1 : \n",
    "        return could_be\n",
    "    else: return False "
   ]
  },
  {
   "cell_type": "markdown",
   "metadata": {},
   "source": [
    "### Putting it all together \n",
    "\n",
    "Using the above function, we can now loop over the whole sodoku puzzle cell by cell and determine solutions and update the sodoku. \n",
    "\n",
    "In this case, a while loop in conjunction with a for loop is appropriate. I initially set my while conditions as \"as long as there exists empty cells (cell's value as zero) in the sodoku puzzle, keep looping\". I found out that this is an incorrect approach because the harder the puzzles get, the solver logic stops finding solutions and the loop keeps runing indefinitely. The better answer was to include a counter and when the loop finds a solution to an empty cell, add to that counter and subtract from it on the next iteration. As long as the solver continues to find solutions, the loop will continue, but if it fails to find one, it will ultimately break and let you know that it failed to solve the puzzle. "
   ]
  },
  {
   "cell_type": "code",
   "execution_count": 32,
   "metadata": {},
   "outputs": [],
   "source": [
    "def solver(sodoku_list, answer):\n",
    "    \"\"\"Inputs: unsolved sodoku puzzle in a 9x9 2d np array, its correct solution in a 9x9 2d np array\n",
    "       Returns: A solved sodoku puzzle in array format along with True if successful, or its best attempt along with False, indicating the solver failed\"\"\"\n",
    "    clone = sodoku_list\n",
    "    count = 1\n",
    "    while count > 0: \n",
    "        count -= 1\n",
    "        for i in range(9):\n",
    "            for j in range(9):\n",
    "                if clone[i,j] != 0:\n",
    "                    continue\n",
    "                else:\n",
    "                    solved = solution(clone,i,j)\n",
    "                    if solved != False:\n",
    "                        clone[i,j] = int(list(solved)[0])\n",
    "                        count += 1 \n",
    "                        \n",
    "    return clone, np.array_equiv(clone,answer)"
   ]
  },
  {
   "cell_type": "markdown",
   "metadata": {},
   "source": [
    "### Testing\n",
    "\n",
    "With the solver set up, we can now test how it performs on actual sodoku puzzles. I pulled these from sodoku.com and inputted them by hand into a numpy array along with their correct solutions so we can compare if the solver was accurate or not. "
   ]
  },
  {
   "cell_type": "code",
   "execution_count": 13,
   "metadata": {},
   "outputs": [],
   "source": [
    "#Easy\n",
    "test_1 = np.array([[7,4,0,0,3,0,0,1,0],\n",
    "                   [0,1,9,0,6,8,5,0,2],\n",
    "                   [0,0,0,0,0,4,3,0,0],\n",
    "                   [0,5,6,3,7,0,0,0,1],\n",
    "                   [0,0,1,8,0,0,0,9,5],\n",
    "                   [0,9,0,0,2,0,6,0,0],\n",
    "                   [1,0,3,4,0,7,2,0,0],\n",
    "                   [5,0,0,2,0,0,0,0,8],\n",
    "                   [0,8,0,0,0,1,4,7,0]])\n",
    "\n",
    "test_1_answer = np.array([[7,4,8,5,3,2,9,1,6],\n",
    "                          [3,1,9,7,6,8,5,4,2],\n",
    "                          [6,2,5,9,1,4,3,8,7],\n",
    "                          [4,5,6,3,7,9,8,2,1],\n",
    "                          [2,3,1,8,4,6,7,9,5],\n",
    "                          [8,9,7,1,2,5,6,3,4],\n",
    "                          [1,6,3,4,8,7,2,5,9],\n",
    "                          [5,7,4,2,9,3,1,6,8],\n",
    "                          [9,8,2,6,5,1,4,7,3]])\n",
    "\n",
    "\n"
   ]
  },
  {
   "cell_type": "code",
   "execution_count": 33,
   "metadata": {},
   "outputs": [
    {
     "data": {
      "text/plain": [
       "(array([[7, 4, 8, 5, 3, 2, 9, 1, 6],\n",
       "        [3, 1, 9, 7, 6, 8, 5, 4, 2],\n",
       "        [6, 2, 5, 9, 1, 4, 3, 8, 7],\n",
       "        [4, 5, 6, 3, 7, 9, 8, 2, 1],\n",
       "        [2, 3, 1, 8, 4, 6, 7, 9, 5],\n",
       "        [8, 9, 7, 1, 2, 5, 6, 3, 4],\n",
       "        [1, 6, 3, 4, 8, 7, 2, 5, 9],\n",
       "        [5, 7, 4, 2, 9, 3, 1, 6, 8],\n",
       "        [9, 8, 2, 6, 5, 1, 4, 7, 3]]),\n",
       " True)"
      ]
     },
     "execution_count": 33,
     "metadata": {},
     "output_type": "execute_result"
    }
   ],
   "source": [
    "solver(test_1,test_1_answer)"
   ]
  },
  {
   "cell_type": "markdown",
   "metadata": {},
   "source": [
    "For an easy sodoku, it works pretty well and returns an answer instantaneously."
   ]
  },
  {
   "cell_type": "code",
   "execution_count": 35,
   "metadata": {},
   "outputs": [],
   "source": [
    "#Trying another easy sodoku just in case the first one was a fluke.\n",
    "\n",
    "#Easy\n",
    "test_2 = np.array([[2,0,0,0,9,0,0,4,5],\n",
    "                   [0,9,0,0,5,1,8,0,2],\n",
    "                   [7,5,0,4,0,0,0,0,0],\n",
    "                   [0,0,0,0,0,0,3,0,8],\n",
    "                   [1,0,0,3,6,7,4,0,0],\n",
    "                   [0,7,4,8,0,0,0,0,1],\n",
    "                   [5,3,1,2,0,6,0,0,4],\n",
    "                   [8,2,0,9,4,5,6,0,3],\n",
    "                   [0,4,0,0,0,8,0,0,0]])\n",
    "\n",
    "test_2_answer = np.array([[2,1,8,6,9,3,7,4,5],\n",
    "                          [4,9,6,7,5,1,8,3,2],\n",
    "                          [7,5,3,4,8,2,1,9,6],\n",
    "                          [9,6,2,5,1,4,3,7,8],\n",
    "                          [1,8,5,3,6,7,4,2,9],\n",
    "                          [3,7,4,8,2,9,5,6,1],\n",
    "                          [5,3,1,2,7,6,9,8,4],\n",
    "                          [8,2,7,9,4,5,6,1,3],\n",
    "                          [6,4,9,1,3,8,2,5,7]])"
   ]
  },
  {
   "cell_type": "code",
   "execution_count": 36,
   "metadata": {},
   "outputs": [
    {
     "data": {
      "text/plain": [
       "(array([[2, 1, 8, 6, 9, 3, 7, 4, 5],\n",
       "        [4, 9, 6, 7, 5, 1, 8, 3, 2],\n",
       "        [7, 5, 3, 4, 8, 2, 1, 9, 6],\n",
       "        [9, 6, 2, 5, 1, 4, 3, 7, 8],\n",
       "        [1, 8, 5, 3, 6, 7, 4, 2, 9],\n",
       "        [3, 7, 4, 8, 2, 9, 5, 6, 1],\n",
       "        [5, 3, 1, 2, 7, 6, 9, 8, 4],\n",
       "        [8, 2, 7, 9, 4, 5, 6, 1, 3],\n",
       "        [6, 4, 9, 1, 3, 8, 2, 5, 7]]),\n",
       " True)"
      ]
     },
     "execution_count": 36,
     "metadata": {},
     "output_type": "execute_result"
    }
   ],
   "source": [
    "solver(test_2,test_2_answer)"
   ]
  },
  {
   "cell_type": "markdown",
   "metadata": {},
   "source": [
    "Works as expected again on another easy problem. Now to try more difficult tests."
   ]
  },
  {
   "cell_type": "code",
   "execution_count": 15,
   "metadata": {},
   "outputs": [],
   "source": [
    "#Medium\n",
    "test_3 = np.array([[5,6,8,7,1,4,0,0,0],\n",
    "                   [0,0,0,6,0,0,0,5,8],\n",
    "                   [0,0,0,5,0,0,0,0,0],\n",
    "                   [9,0,0,0,0,0,5,0,0],\n",
    "                   [0,3,5,2,0,7,8,0,0],\n",
    "                   [7,0,1,0,5,0,0,6,0],\n",
    "                   [0,0,0,0,6,2,7,0,0],\n",
    "                   [2,0,9,4,7,0,0,0,0],\n",
    "                   [4,7,0,0,0,0,2,1,0]])\n",
    "\n",
    "test_3_answer = np.array([[5,6,8,7,1,4,9,3,2],\n",
    "                          [1,9,7,6,2,3,4,5,8],\n",
    "                          [3,4,2,5,9,9,1,7,6],\n",
    "                          [9,8,4,1,3,6,5,2,7],\n",
    "                          [6,3,5,2,4,7,8,9,1],\n",
    "                          [7,2,1,8,5,9,3,6,4],\n",
    "                          [8,1,3,9,6,2,7,4,5],\n",
    "                          [2,5,9,4,7,1,6,8,3],\n",
    "                          [4,7,6,3,8,5,2,1,9]])"
   ]
  },
  {
   "cell_type": "code",
   "execution_count": 37,
   "metadata": {},
   "outputs": [
    {
     "data": {
      "text/plain": [
       "(array([[5, 6, 8, 7, 1, 4, 0, 0, 0],\n",
       "        [0, 0, 0, 6, 0, 0, 0, 5, 8],\n",
       "        [0, 0, 0, 5, 0, 0, 0, 0, 0],\n",
       "        [9, 0, 0, 0, 0, 0, 5, 0, 0],\n",
       "        [6, 3, 5, 2, 0, 7, 8, 0, 0],\n",
       "        [7, 0, 1, 0, 5, 0, 0, 6, 0],\n",
       "        [0, 0, 3, 0, 6, 2, 7, 0, 0],\n",
       "        [2, 0, 9, 4, 7, 0, 0, 0, 0],\n",
       "        [4, 7, 6, 0, 0, 0, 2, 1, 0]]),\n",
       " False)"
      ]
     },
     "execution_count": 37,
     "metadata": {},
     "output_type": "execute_result"
    }
   ],
   "source": [
    "solver(test_3,test_3_answer)"
   ]
  },
  {
   "cell_type": "markdown",
   "metadata": {},
   "source": [
    "As we can see, the solver failed. The solver's solution only found a few solutions to empty cells but hit a wall when it couldn't find any more, therefore breaking the loop. \n",
    "\n",
    "Let's continue on and try a hard one just to see how it performs:"
   ]
  },
  {
   "cell_type": "code",
   "execution_count": 16,
   "metadata": {},
   "outputs": [],
   "source": [
    "#Hard \n",
    "test_4 = np.array([[7,0,0,0,9,0,0,8,0],\n",
    "                   [0,3,0,0,6,0,0,0,4],\n",
    "                   [0,0,0,0,0,0,0,0,0],\n",
    "                   [2,0,0,0,0,0,0,0,5],\n",
    "                   [8,0,0,0,2,6,4,0,0],\n",
    "                   [6,0,0,0,7,0,0,0,3],\n",
    "                   [0,1,0,0,4,0,0,0,9],\n",
    "                   [0,0,0,2,0,5,0,0,0],\n",
    "                   [0,7,0,9,0,0,5,0,0]])\n",
    "\n",
    "test_4_answer = np.array([[7,2,5,3,9,4,6,8,1],\n",
    "                          [1,3,9,8,6,2,7,5,4],\n",
    "                          [4,8,6,7,5,1,3,9,2],\n",
    "                          [2,4,7,1,8,3,9,6,5],\n",
    "                          [8,9,3,5,2,6,4,1,7],\n",
    "                          [6,5,1,4,7,9,8,2,3],\n",
    "                          [5,1,8,6,4,7,2,3,9],\n",
    "                          [9,6,4,2,3,5,1,7,8],\n",
    "                          [3,7,2,9,1,8,5,4,6]])"
   ]
  },
  {
   "cell_type": "code",
   "execution_count": 38,
   "metadata": {},
   "outputs": [
    {
     "data": {
      "text/plain": [
       "(array([[7, 0, 0, 0, 9, 0, 0, 8, 0],\n",
       "        [0, 3, 0, 0, 6, 0, 0, 0, 4],\n",
       "        [0, 0, 0, 0, 0, 0, 0, 0, 0],\n",
       "        [2, 0, 0, 0, 0, 0, 0, 0, 5],\n",
       "        [8, 0, 0, 0, 2, 6, 4, 0, 0],\n",
       "        [6, 0, 0, 0, 7, 0, 0, 0, 3],\n",
       "        [0, 1, 0, 0, 4, 0, 0, 0, 9],\n",
       "        [0, 0, 0, 2, 0, 5, 0, 0, 0],\n",
       "        [0, 7, 0, 9, 0, 0, 5, 0, 0]]),\n",
       " False)"
      ]
     },
     "execution_count": 38,
     "metadata": {},
     "output_type": "execute_result"
    }
   ],
   "source": [
    "solver(test_4,test_4_answer)"
   ]
  },
  {
   "cell_type": "markdown",
   "metadata": {},
   "source": [
    "Once again, the solver failed to find a full solution. Actually, the initial conditions were so empty that the loop didn't even find a single cell's solution. "
   ]
  },
  {
   "cell_type": "markdown",
   "metadata": {},
   "source": [
    "### Iteration 1 Conclusion \n",
    "\n",
    "As tests 3 and 4 show, the solver logic needs some improvement. It can solve easy sodoku's no problem, but fails to solve the medium and harder ones. \n",
    "\n",
    "For the next iteration, I plan to add some more logic to the solver. Specifically, I'll try having the solver evaluate the empty cell's *adjacent* rows and columns instead of just its own. \n",
    "\n",
    "Thanks again for checking out the first iteration of my second project.\n",
    "\n",
    "Feel free to send me some feedback or pointers to my email at cameron.fld@gmail.com"
   ]
  },
  {
   "cell_type": "code",
   "execution_count": null,
   "metadata": {},
   "outputs": [],
   "source": []
  }
 ],
 "metadata": {
  "kernelspec": {
   "display_name": "Python 3",
   "language": "python",
   "name": "python3"
  },
  "language_info": {
   "codemirror_mode": {
    "name": "ipython",
    "version": 3
   },
   "file_extension": ".py",
   "mimetype": "text/x-python",
   "name": "python",
   "nbconvert_exporter": "python",
   "pygments_lexer": "ipython3",
   "version": "3.8.5"
  }
 },
 "nbformat": 4,
 "nbformat_minor": 4
}
